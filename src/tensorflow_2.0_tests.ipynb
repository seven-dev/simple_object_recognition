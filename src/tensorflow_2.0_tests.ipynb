{
 "cells": [
  {
   "cell_type": "markdown",
   "metadata": {},
   "source": [
    "# Tensorflow 2.0 tests"
   ]
  },
  {
   "cell_type": "code",
   "execution_count": 124,
   "metadata": {},
   "outputs": [
    {
     "name": "stdout",
     "output_type": "stream",
     "text": [
      "2.0.0-alpha0\n"
     ]
    }
   ],
   "source": [
    "# Import libraries\n",
    "import tensorflow as tf\n",
    "import numpy as np\n",
    "import matplotlib.pyplot as plt\n",
    "import os\n",
    "print(tf.__version__)"
   ]
  },
  {
   "cell_type": "code",
   "execution_count": 125,
   "metadata": {},
   "outputs": [],
   "source": [
    "# Import dataset\n",
    "mnist = tf.keras.datasets.mnist\n",
    "(x_train, y_train),(x_test, y_test) = mnist.load_data()"
   ]
  },
  {
   "cell_type": "code",
   "execution_count": 126,
   "metadata": {},
   "outputs": [
    {
     "name": "stdout",
     "output_type": "stream",
     "text": [
      "x_train's shape: (60000, 28, 28)\n",
      "y_train's shape: (60000,)\n",
      "x_test's shape: (10000, 28, 28)\n",
      "y_test's shape: (10000,)\n",
      "Example data label (y_train[0]): 5\n"
     ]
    }
   ],
   "source": [
    "# Explore dataset 1\n",
    "print(f'x_train\\'s shape: {x_train.shape}')\n",
    "print(f'y_train\\'s shape: {y_train.shape}')\n",
    "print(f'x_test\\'s shape: {x_test.shape}')\n",
    "print(f'y_test\\'s shape: {y_test.shape}')\n",
    "print(f'Example data label (y_train[0]): {y_train[0]}')\n",
    "#print(f'Example data (x_train[0]): {x_train[0]}')"
   ]
  },
  {
   "cell_type": "code",
   "execution_count": 127,
   "metadata": {},
   "outputs": [
    {
     "data": {
      "image/png": "[encoded data removed]",
      "text/plain": [
       "<Figure size 432x288 with 1 Axes>"
      ]
     },
     "metadata": {
      "needs_background": "light"
     },
     "output_type": "display_data"
    }
   ],
   "source": [
    "# Explore dataset 2\n",
    "i = 0\n",
    "plt.imshow(x_train[i], cmap=plt.get_cmap('gray'))\n",
    "plt.show()"
   ]
  },
  {
   "cell_type": "code",
   "execution_count": 128,
   "metadata": {},
   "outputs": [],
   "source": [
    "# Normalize it\n",
    "x_train, x_test = x_train / 255.0, x_test / 255.0"
   ]
  },
  {
   "cell_type": "code",
   "execution_count": 129,
   "metadata": {},
   "outputs": [
    {
     "name": "stdout",
     "output_type": "stream",
     "text": [
      "Model: \"sequential_14\"\n",
      "_________________________________________________________________\n",
      "Layer (type)                 Output Shape              Param #   \n",
      "=================================================================\n",
      "flatten_14 (Flatten)         (None, 784)               0         \n",
      "_________________________________________________________________\n",
      "dense_28 (Dense)             (None, 512)               401920    \n",
      "_________________________________________________________________\n",
      "dropout_14 (Dropout)         (None, 512)               0         \n",
      "_________________________________________________________________\n",
      "dense_29 (Dense)             (None, 10)                5130      \n",
      "=================================================================\n",
      "Total params: 407,050\n",
      "Trainable params: 407,050\n",
      "Non-trainable params: 0\n",
      "_________________________________________________________________\n"
     ]
    }
   ],
   "source": [
    "# Create model\n",
    "model = tf.keras.models.Sequential([\n",
    "  tf.keras.layers.Flatten(input_shape=(28, 28)),\n",
    "  tf.keras.layers.Dense(512, activation=tf.nn.relu),\n",
    "  tf.keras.layers.Dropout(0.2),\n",
    "  tf.keras.layers.Dense(10, activation=tf.nn.softmax)\n",
    "])\n",
    "optimizer = tf.keras.optimizers.Adam(lr=0.001)\n",
    "model.compile(optimizer=optimizer,\n",
    "              loss='sparse_categorical_crossentropy',\n",
    "              metrics=['accuracy'])\n",
    "model.summary()"
   ]
  },
  {
   "cell_type": "code",
   "execution_count": 130,
   "metadata": {},
   "outputs": [
    {
     "name": "stdout",
     "output_type": "stream",
     "text": [
      "Epoch 1/5\n",
      "59808/60000 [============================>.] - ETA: 0s - loss: 0.2180 - accuracy: 0.9368\n",
      "Epoch 00001: saving model to ./model/training/checkpoints/cp_mnist.ckpt\n",
      "60000/60000 [==============================] - 6s 92us/sample - loss: 0.2177 - accuracy: 0.9369\n",
      "Epoch 2/5\n",
      "59520/60000 [============================>.] - ETA: 0s - loss: 0.0961 - accuracy: 0.9710\n",
      "Epoch 00002: saving model to ./model/training/checkpoints/cp_mnist.ckpt\n",
      "60000/60000 [==============================] - 5s 91us/sample - loss: 0.0961 - accuracy: 0.9710\n",
      "Epoch 3/5\n",
      "59904/60000 [============================>.] - ETA: 0s - loss: 0.0676 - accuracy: 0.9786\n",
      "Epoch 00003: saving model to ./model/training/checkpoints/cp_mnist.ckpt\n",
      "60000/60000 [==============================] - 6s 93us/sample - loss: 0.0675 - accuracy: 0.9786\n",
      "Epoch 4/5\n",
      "59968/60000 [============================>.] - ETA: 0s - loss: 0.0543 - accuracy: 0.9829\n",
      "Epoch 00004: saving model to ./model/training/checkpoints/cp_mnist.ckpt\n",
      "60000/60000 [==============================] - 6s 94us/sample - loss: 0.0543 - accuracy: 0.9829\n",
      "Epoch 5/5\n",
      "59584/60000 [============================>.] - ETA: 0s - loss: 0.0428 - accuracy: 0.9866\n",
      "Epoch 00005: saving model to ./model/training/checkpoints/cp_mnist.ckpt\n",
      "60000/60000 [==============================] - 6s 106us/sample - loss: 0.0428 - accuracy: 0.9866\n",
      "cp_mnist.ckpt\n"
     ]
    }
   ],
   "source": [
    "# Train\n",
    "checkpoint_path = './model/training/checkpoints/cp_mnist.ckpt'\n",
    "checkpoint_dir = os.path.dirname(checkpoint_path)\n",
    "cp_callback = tf.keras.callbacks.ModelCheckpoint(checkpoint_path,\n",
    "                                                 save_weights_only=False,\n",
    "                                                 verbose=1)\n",
    "model.fit(x_train, y_train, \n",
    "          epochs=5,\n",
    "          callbacks=[cp_callback])\n",
    "!ls {checkpoint_dir}"
   ]
  },
  {
   "cell_type": "code",
   "execution_count": 131,
   "metadata": {},
   "outputs": [
    {
     "name": "stdout",
     "output_type": "stream",
     "text": [
      "10000/10000 [==============================] - 0s 35us/sample - loss: 0.0674 - accuracy: 0.9805\n"
     ]
    },
    {
     "data": {
      "text/plain": [
       "[0.06739834576133871, 0.9805]"
      ]
     },
     "execution_count": 131,
     "metadata": {},
     "output_type": "execute_result"
    }
   ],
   "source": [
    "# Test\n",
    "model.evaluate(x_test, y_test)"
   ]
  },
  {
   "cell_type": "code",
   "execution_count": 132,
   "metadata": {},
   "outputs": [
    {
     "name": "stdout",
     "output_type": "stream",
     "text": [
      "Predicted \"7\" and it is \"7\"\n"
     ]
    }
   ],
   "source": [
    "i = 0\n",
    "prediction = model.predict(np.array([x_test[i]]))\n",
    "prediction = prediction.argmax()\n",
    "print(f'Predicted \"{prediction}\" and it is \"{y_test[i]}\"')"
   ]
  },
  {
   "cell_type": "code",
   "execution_count": 136,
   "metadata": {},
   "outputs": [
    {
     "name": "stdout",
     "output_type": "stream",
     "text": [
      "\u001b[34mcheckpoints\u001b[m\u001b[m model.h5\r\n"
     ]
    }
   ],
   "source": [
    "# Save model\n",
    "save_path = './model/training/model.h5'\n",
    "model.save(save_path)\n",
    "!ls {os.path.dirname(save_path)}"
   ]
  },
  {
   "cell_type": "code",
   "execution_count": 138,
   "metadata": {},
   "outputs": [
    {
     "name": "stdout",
     "output_type": "stream",
     "text": [
      "Loaded model from weights only:\n",
      "10000/10000 [==============================] - 0s 35us/sample - loss: 0.0674 - accuracy: 0.9805\n",
      "Restored model, accuracy: 98.05%\n",
      "Loaded full model:\n",
      "10000/10000 [==============================] - 0s 30us/sample - loss: 0.0674 - accuracy: 0.9805\n",
      "Restored model, accuracy: 98.05%\n"
     ]
    }
   ],
   "source": [
    "# Load weights from checkpoint\n",
    "print('Loaded model from weights only:')\n",
    "model.load_weights(checkpoint_path)\n",
    "loss,acc = model.evaluate(x_test, y_test)\n",
    "print(\"Restored model, accuracy: {:5.2f}%\".format(100*acc))\n",
    "\n",
    "# Load full model from checkpoints\n",
    "print('Loaded full model:')\n",
    "model2 = tf.keras.models.load_model(save_path)\n",
    "loss,acc = model.evaluate(x_test, y_test)\n",
    "print(\"Restored model, accuracy: {:5.2f}%\".format(100*acc))"
   ]
  },
  {
   "cell_type": "code",
   "execution_count": null,
   "metadata": {},
   "outputs": [],
   "source": []
  }
 ],
 "metadata": {
  "kernelspec": {
   "display_name": "Python 3",
   "language": "python",
   "name": "python3"
  },
  "language_info": {
   "codemirror_mode": {
    "name": "ipython",
    "version": 3
   },
   "file_extension": ".py",
   "mimetype": "text/x-python",
   "name": "python",
   "nbconvert_exporter": "python",
   "pygments_lexer": "ipython3",
   "version": "3.6.8"
  }
 },
 "nbformat": 4,
 "nbformat_minor": 2
}
